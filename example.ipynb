{
 "cells": [
  {
   "cell_type": "code",
   "execution_count": 1,
   "metadata": {},
   "outputs": [],
   "source": [
    "from ecc import *\n",
    "from helper import hash256"
   ]
  },
  {
   "cell_type": "code",
   "execution_count": 2,
   "metadata": {},
   "outputs": [
    {
     "data": {
      "text/plain": [
       "b'\\x95\\x95\\xc9\\xdf\\x90\\x07QH\\xeb\\x06\\x86\\x03e\\xdf3XKu\\xbf\\xf7\\x82\\xa5\\x10\\xc6\\xcdH\\x83\\xa4\\x19\\x83=P'"
      ]
     },
     "execution_count": 2,
     "metadata": {},
     "output_type": "execute_result"
    }
   ],
   "source": [
    "hash256(\"hello\")"
   ]
  },
  {
   "cell_type": "code",
   "execution_count": 3,
   "metadata": {},
   "outputs": [],
   "source": [
    "a = FieldElement(num = 0, prime = 223)\n",
    "b = FieldElement(num = 7, prime = 223)\n",
    "x1 = FieldElement(num = 192, prime = 223)\n",
    "y1 = FieldElement(num = 105, prime = 223)\n",
    "x2 = FieldElement(num = 17, prime = 223)\n",
    "y2 = FieldElement(num = 56, prime = 223)\n",
    "x3 = FieldElement(num = 15, prime = 223)\n",
    "y3 = FieldElement(num = 86, prime = 223)\n",
    "p1 = Point(x1, y1, a, b)\n",
    "p2 = Point(x2, y2, a, b)\n",
    "p3 = Point(x3, y3, a, b)"
   ]
  },
  {
   "cell_type": "code",
   "execution_count": 4,
   "metadata": {},
   "outputs": [
    {
     "data": {
      "text/plain": [
       "Point(FieldElement_223(170), FieldElement_223(142))_FieldElement_223(0)_FieldElement_223(7)"
      ]
     },
     "execution_count": 4,
     "metadata": {},
     "output_type": "execute_result"
    }
   ],
   "source": [
    "p1 + p2"
   ]
  },
  {
   "cell_type": "code",
   "execution_count": 5,
   "metadata": {},
   "outputs": [
    {
     "name": "stdout",
     "output_type": "stream",
     "text": [
      "Point(FieldElement_223(15), FieldElement_223(86))_FieldElement_223(0)_FieldElement_223(7)\n",
      "Point(FieldElement_223(139), FieldElement_223(86))_FieldElement_223(0)_FieldElement_223(7)\n",
      "Point(FieldElement_223(69), FieldElement_223(137))_FieldElement_223(0)_FieldElement_223(7)\n",
      "Point(FieldElement_223(69), FieldElement_223(86))_FieldElement_223(0)_FieldElement_223(7)\n",
      "Point(FieldElement_223(139), FieldElement_223(137))_FieldElement_223(0)_FieldElement_223(7)\n",
      "Point(FieldElement_223(15), FieldElement_223(137))_FieldElement_223(0)_FieldElement_223(7)\n",
      "Point(infinity)\n"
     ]
    }
   ],
   "source": [
    "for i in range(1, 8):\n",
    "    print(i * p3)"
   ]
  },
  {
   "cell_type": "code",
   "execution_count": 6,
   "metadata": {},
   "outputs": [
    {
     "data": {
      "text/plain": [
       "S256Point(79be667ef9dcbbac55a06295ce870b07029bfcdb2dce28d959f2815b16f81798, 483ada7726a3c4655da4fbfc0e1108a8fd17b448a68554199c47d08ffb10d4b8)_0000000000000000000000000000000000000000000000000000000000000000_0000000000000000000000000000000000000000000000000000000000000007"
      ]
     },
     "execution_count": 6,
     "metadata": {},
     "output_type": "execute_result"
    }
   ],
   "source": [
    "G"
   ]
  },
  {
   "cell_type": "code",
   "execution_count": 7,
   "metadata": {},
   "outputs": [
    {
     "data": {
      "text/plain": [
       "S256Point(infinity)"
      ]
     },
     "execution_count": 7,
     "metadata": {},
     "output_type": "execute_result"
    }
   ],
   "source": [
    "N * G"
   ]
  },
  {
   "cell_type": "code",
   "execution_count": 8,
   "metadata": {},
   "outputs": [
    {
     "name": "stdout",
     "output_type": "stream",
     "text": [
      "True\n",
      "True\n"
     ]
    }
   ],
   "source": [
    "# excercise 6\n",
    "point = S256Point(\n",
    "    0x887387e452b8eacc4acfde10d9aaf7f6d9a0f975aabb10d006e4da568744d06c,\n",
    "    0x61de6d95231cd89026e286df3b6ae4a894a3378e393e93a0f45b666329a0ae34\n",
    ")\n",
    "\n",
    "## signature 1\n",
    "z = 0xec208baa0fc1c19f708a9ca96fdeff3ac3f230bb4a7ba4aede4942ad003c0f60\n",
    "r = 0xac8d1c87e51d0d441be8b3dd5b05c8795b48875dffe00b7ffcfac23010d3a395\n",
    "s = 0x68342ceff8935ededd102dd876ffd6ba72d6a427a3edb13d26eb0781cb423c4\n",
    "sign = Signature(r, s)\n",
    "print(point.verify(z, sign)) # True\n",
    "\n",
    "## signature 2\n",
    "z = 0x7c076ff316692a3d7eb3c3bb0f8b1488cf72e1afcd929e29307032997a838a3d\n",
    "r = 0xeff69ef2b1bd93a66ed5219add4fb51e11a840f404876325a1e8ffe0529a2c\n",
    "s = 0xc7207fee197d27c618aea621406f6bf5ef6fca38681d82b2f06fddbdce6feab6\n",
    "sign = Signature(r, s)\n",
    "print(point.verify(z, sign)) # True"
   ]
  },
  {
   "cell_type": "code",
   "execution_count": 9,
   "metadata": {},
   "outputs": [
    {
     "data": {
      "text/plain": [
       "True"
      ]
     },
     "execution_count": 9,
     "metadata": {},
     "output_type": "execute_result"
    }
   ],
   "source": [
    "# excercise 7\n",
    "e = 12345\n",
    "z = int.from_bytes(hash256('Programming Bitcoin!'), 'big')\n",
    "\n",
    "key = PrivateKey(e)\n",
    "pub = key.point\n",
    "sign = key.sign(z)\n",
    "pub.verify(z, sign)"
   ]
  },
  {
   "cell_type": "code",
   "execution_count": 17,
   "metadata": {},
   "outputs": [
    {
     "name": "stdout",
     "output_type": "stream",
     "text": [
      "04ffe558e388852f0120e46af2d1b370f85854a8eb0841811ece0e3e03d282d57c315dc72890a4f10a1481c031b03b351b0dc79901ca18a00cf009dbdb157a1d10\n",
      "04027f3da1918455e03c46f659266a1bb5204e959db7364d2f473bdf8f0a13cc9dff87647fd023c13b4a4994f17691895806e1b40b57f4fd22581a4f46851f3b06\n",
      "04d90cd625ee87dd38656dd95cf79f65f60f7273b67d3096e68bd81e4f5342691f842efa762fd59961d0e99803c61edba8b3e3f7dc3a341836f97733aebf987121\n"
     ]
    }
   ],
   "source": [
    "# chapter 4: serialization\n",
    "\n",
    "# excercise 1\n",
    "e = 5000\n",
    "key = PrivateKey(e)\n",
    "pub = key.point\n",
    "print(pub.sec(compressed=False).hex())\n",
    "\n",
    "e = 2018**5\n",
    "key = PrivateKey(e)\n",
    "pub = key.point\n",
    "print(pub.sec(compressed=False).hex())\n",
    "\n",
    "e = 0xdeadbeef12345\n",
    "key = PrivateKey(e)\n",
    "pub = key.point\n",
    "print(pub.sec(compressed=False).hex())"
   ]
  },
  {
   "cell_type": "code",
   "execution_count": 16,
   "metadata": {},
   "outputs": [
    {
     "name": "stdout",
     "output_type": "stream",
     "text": [
      "True\n",
      "True\n",
      "True\n"
     ]
    }
   ],
   "source": [
    "## excercise 2\n",
    "e = 5001\n",
    "key = PrivateKey(e)\n",
    "pub = key.point\n",
    "sec_bin = pub.sec() # compressed SEC\n",
    "print(pub == S256Point.parse(sec_bin))\n",
    "\n",
    "e = 2019**5\n",
    "key = PrivateKey(e)\n",
    "pub = key.point\n",
    "sec_bin = pub.sec() # compressed SEC\n",
    "print(pub == S256Point.parse(sec_bin))\n",
    "\n",
    "e = 0xdeadbeef54321\n",
    "key = PrivateKey(e)\n",
    "pub = key.point\n",
    "sec_bin = pub.sec() # compressed SEC\n",
    "print(pub == S256Point.parse(sec_bin))"
   ]
  },
  {
   "cell_type": "code",
   "execution_count": 16,
   "metadata": {},
   "outputs": [
    {
     "data": {
      "text/plain": [
       "b'\\x03W\\xa4\\xf3h\\x86\\x8a\\x8amW)\\x91\\xe4\\x84\\xe6d\\x81\\x0f\\xf1L\\x05\\xc0\\xfa\\x022u%\\x11Q\\xfe\\x0eS\\xd1'"
      ]
     },
     "execution_count": 16,
     "metadata": {},
     "output_type": "execute_result"
    }
   ],
   "source": [
    "sec_bin"
   ]
  },
  {
   "cell_type": "code",
   "execution_count": null,
   "metadata": {},
   "outputs": [],
   "source": []
  }
 ],
 "metadata": {
  "interpreter": {
   "hash": "938e5f5c7c9c871d12801f8631b05ee6fc8b19abea0ceb5f916fa9a7ef2e17f9"
  },
  "kernelspec": {
   "display_name": "Python 3.9.5 64-bit ('base')",
   "language": "python",
   "name": "python3"
  },
  "language_info": {
   "codemirror_mode": {
    "name": "ipython",
    "version": 3
   },
   "file_extension": ".py",
   "mimetype": "text/x-python",
   "name": "python",
   "nbconvert_exporter": "python",
   "pygments_lexer": "ipython3",
   "version": "3.9.5"
  },
  "orig_nbformat": 4
 },
 "nbformat": 4,
 "nbformat_minor": 2
}
